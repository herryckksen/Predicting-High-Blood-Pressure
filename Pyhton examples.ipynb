{
  "cells": [
    {
      "cell_type": "markdown",
      "metadata": {
        "id": "view-in-github",
        "colab_type": "text"
      },
      "source": [
        "<a href=\"https://colab.research.google.com/github/herryckksen/herryckksen/blob/main/Pyhton%20examples.ipynb\" target=\"_parent\"><img src=\"https://colab.research.google.com/assets/colab-badge.svg\" alt=\"Open In Colab\"/></a>"
      ]
    },
    {
      "cell_type": "code",
      "source": [
        "\n",
        "def replaceVowels(str):\n",
        "    N = len(str)\n",
        "    str1 = \" \" \n",
        "    for i in range(N):\n",
        "        if (str[i] == 'a' or str[i] == 'e' or str[i] == 'i' or str[i] == 'o' or str[i] == 'u'):\n",
        "            c = (str[i]).upper()\n",
        "            str1 += c\n",
        "        else:\n",
        "             str1 += str[i]\n",
        "    print(str1)\n",
        "\n",
        "replaceVowels(\"Daniel Okunbor\")"
      ],
      "metadata": {
        "id": "xCucoLjRezkb",
        "outputId": "ad44c780-60d7-4f58-b173-b0d3fbdc32c4",
        "colab": {
          "base_uri": "https://localhost:8080/"
        }
      },
      "execution_count": null,
      "outputs": [
        {
          "output_type": "stream",
          "name": "stdout",
          "text": [
            " DAnIEl OkUnbOr\n"
          ]
        }
      ]
    },
    {
      "cell_type": "code",
      "source": [
        "\n",
        "list1 = [0,1,2,3,4,5,6]\n",
        "newlist = [list1[0]%2,list1[1]%2,list1[2]%2, list1[3]%2, list1[4]%2, list1[5]%2, list1[6]%2 ]\n",
        "\n",
        "f = open(\"document.txt\", \"w+\")\n",
        "for i in range (7):\n",
        "    f.write(str(list1[i]))\n",
        "    f.write(\",\")\n",
        "    f.write(str(newlist[i]))\n",
        "    f.write(\"\\n\")\n",
        "f.close()"
      ],
      "metadata": {
        "id": "1a1Ydsbam0xo"
      },
      "execution_count": null,
      "outputs": []
    }
  ],
  "metadata": {
    "colab": {
      "collapsed_sections": [],
      "name": "Copy of Welcome to Colaboratory",
      "provenance": [],
      "toc_visible": true,
      "include_colab_link": true
    },
    "kernelspec": {
      "display_name": "Python 3",
      "name": "python3"
    }
  },
  "nbformat": 4,
  "nbformat_minor": 0
}